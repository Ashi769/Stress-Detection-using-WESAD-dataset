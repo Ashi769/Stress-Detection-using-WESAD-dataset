{
  "nbformat": 4,
  "nbformat_minor": 0,
  "metadata": {
    "colab": {
      "name": "Mini.ipynb",
      "provenance": [],
      "collapsed_sections": []
    },
    "kernelspec": {
      "name": "python3",
      "display_name": "Python 3"
    }
  },
  "cells": [
    {
      "cell_type": "code",
      "metadata": {
        "id": "8IG6s5XM45fS",
        "outputId": "6f0e3324-b950-4908-e389-1f51156aa2d7",
        "colab": {
          "base_uri": "https://localhost:8080/"
        }
      },
      "source": [
        "from google.colab import drive\n",
        "drive.mount(\"/content/drive\", force_remount=True)"
      ],
      "execution_count": null,
      "outputs": [
        {
          "output_type": "stream",
          "text": [
            "Mounted at /content/drive\n"
          ],
          "name": "stdout"
        }
      ]
    },
    {
      "cell_type": "code",
      "metadata": {
        "id": "jzD4uFvk7ql5"
      },
      "source": [
        "import pandas as pd\n",
        "import numpy as np\n",
        "import matplotlib.pyplot as plt"
      ],
      "execution_count": null,
      "outputs": []
    },
    {
      "cell_type": "code",
      "metadata": {
        "id": "Yhjej4HHLejy",
        "outputId": "5b94c97f-7e58-4f82-9e20-3dd2f4432510",
        "colab": {
          "base_uri": "https://localhost:8080/",
          "height": 243
        }
      },
      "source": [
        "df=pd.read_csv('/content/drive/My Drive/DUMPYARD GROUP 32/Mini/final.csv',index_col=0)\n",
        "sub_set=df['subject'].unique()\n",
        "lab=['label']\n",
        "dfs= dict(tuple(df.groupby(\"subject\")))\n",
        "df.head()\n",
        "\n"
      ],
      "execution_count": null,
      "outputs": [
        {
          "output_type": "execute_result",
          "data": {
            "text/html": [
              "<div>\n",
              "<style scoped>\n",
              "    .dataframe tbody tr th:only-of-type {\n",
              "        vertical-align: middle;\n",
              "    }\n",
              "\n",
              "    .dataframe tbody tr th {\n",
              "        vertical-align: top;\n",
              "    }\n",
              "\n",
              "    .dataframe thead th {\n",
              "        text-align: right;\n",
              "    }\n",
              "</style>\n",
              "<table border=\"1\" class=\"dataframe\">\n",
              "  <thead>\n",
              "    <tr style=\"text-align: right;\">\n",
              "      <th></th>\n",
              "      <th>Unnamed: 0.1</th>\n",
              "      <th>net_acc_mean</th>\n",
              "      <th>net_acc_std</th>\n",
              "      <th>net_acc_min</th>\n",
              "      <th>net_acc_max</th>\n",
              "      <th>ACC_x_mean</th>\n",
              "      <th>ACC_x_std</th>\n",
              "      <th>ACC_x_min</th>\n",
              "      <th>ACC_x_max</th>\n",
              "      <th>ACC_y_mean</th>\n",
              "      <th>ACC_y_std</th>\n",
              "      <th>ACC_y_min</th>\n",
              "      <th>ACC_y_max</th>\n",
              "      <th>ACC_z_mean</th>\n",
              "      <th>ACC_z_std</th>\n",
              "      <th>ACC_z_min</th>\n",
              "      <th>ACC_z_max</th>\n",
              "      <th>BVP_mean</th>\n",
              "      <th>BVP_std</th>\n",
              "      <th>BVP_min</th>\n",
              "      <th>BVP_max</th>\n",
              "      <th>EDA_mean</th>\n",
              "      <th>EDA_std</th>\n",
              "      <th>EDA_min</th>\n",
              "      <th>EDA_max</th>\n",
              "      <th>EDA_phasic_mean</th>\n",
              "      <th>EDA_phasic_std</th>\n",
              "      <th>EDA_phasic_min</th>\n",
              "      <th>EDA_phasic_max</th>\n",
              "      <th>EDA_smna_mean</th>\n",
              "      <th>EDA_smna_std</th>\n",
              "      <th>EDA_smna_min</th>\n",
              "      <th>EDA_smna_max</th>\n",
              "      <th>EDA_tonic_mean</th>\n",
              "      <th>EDA_tonic_std</th>\n",
              "      <th>EDA_tonic_min</th>\n",
              "      <th>EDA_tonic_max</th>\n",
              "      <th>Resp_mean</th>\n",
              "      <th>Resp_std</th>\n",
              "      <th>Resp_min</th>\n",
              "      <th>Resp_max</th>\n",
              "      <th>TEMP_mean</th>\n",
              "      <th>TEMP_std</th>\n",
              "      <th>TEMP_min</th>\n",
              "      <th>TEMP_max</th>\n",
              "      <th>BVP_peak_freq</th>\n",
              "      <th>TEMP_slope</th>\n",
              "      <th>subject</th>\n",
              "      <th>label</th>\n",
              "      <th>age</th>\n",
              "      <th>height</th>\n",
              "      <th>weight</th>\n",
              "      <th>gender_ female</th>\n",
              "      <th>gender_ male</th>\n",
              "      <th>coffee_today_YES</th>\n",
              "      <th>sport_today_YES</th>\n",
              "      <th>smoker_NO</th>\n",
              "      <th>smoker_YES</th>\n",
              "      <th>feel_ill_today_YES</th>\n",
              "    </tr>\n",
              "  </thead>\n",
              "  <tbody>\n",
              "    <tr>\n",
              "      <th>0</th>\n",
              "      <td>0</td>\n",
              "      <td>0.029937</td>\n",
              "      <td>0.009942</td>\n",
              "      <td>0.000000</td>\n",
              "      <td>0.087383</td>\n",
              "      <td>0.029510</td>\n",
              "      <td>0.011145</td>\n",
              "      <td>-0.024082</td>\n",
              "      <td>0.087383</td>\n",
              "      <td>0.000020</td>\n",
              "      <td>0.000008</td>\n",
              "      <td>-0.000017</td>\n",
              "      <td>0.000060</td>\n",
              "      <td>0.000020</td>\n",
              "      <td>0.000008</td>\n",
              "      <td>-0.000017</td>\n",
              "      <td>0.000060</td>\n",
              "      <td>-0.181673</td>\n",
              "      <td>107.648359</td>\n",
              "      <td>-358.13</td>\n",
              "      <td>554.77</td>\n",
              "      <td>1.397968</td>\n",
              "      <td>0.141481</td>\n",
              "      <td>1.109299</td>\n",
              "      <td>1.678399</td>\n",
              "      <td>1.824289</td>\n",
              "      <td>1.088328</td>\n",
              "      <td>0.367977</td>\n",
              "      <td>4.319987</td>\n",
              "      <td>1.284376</td>\n",
              "      <td>1.952823</td>\n",
              "      <td>5.229657e-08</td>\n",
              "      <td>11.712596</td>\n",
              "      <td>1.232164</td>\n",
              "      <td>0.997487</td>\n",
              "      <td>-0.599164</td>\n",
              "      <td>2.554750</td>\n",
              "      <td>0.148184</td>\n",
              "      <td>2.935617</td>\n",
              "      <td>-8.805847</td>\n",
              "      <td>6.504822</td>\n",
              "      <td>35.817091</td>\n",
              "      <td>0.012674</td>\n",
              "      <td>35.79</td>\n",
              "      <td>35.84</td>\n",
              "      <td>0.135670</td>\n",
              "      <td>-0.000169</td>\n",
              "      <td>2</td>\n",
              "      <td>1</td>\n",
              "      <td>27</td>\n",
              "      <td>175</td>\n",
              "      <td>80</td>\n",
              "      <td>0</td>\n",
              "      <td>1</td>\n",
              "      <td>0</td>\n",
              "      <td>0</td>\n",
              "      <td>1</td>\n",
              "      <td>0</td>\n",
              "      <td>0</td>\n",
              "    </tr>\n",
              "    <tr>\n",
              "      <th>1</th>\n",
              "      <td>0</td>\n",
              "      <td>0.021986</td>\n",
              "      <td>0.015845</td>\n",
              "      <td>0.000000</td>\n",
              "      <td>0.071558</td>\n",
              "      <td>0.017352</td>\n",
              "      <td>0.020817</td>\n",
              "      <td>-0.037843</td>\n",
              "      <td>0.071558</td>\n",
              "      <td>0.000012</td>\n",
              "      <td>0.000014</td>\n",
              "      <td>-0.000026</td>\n",
              "      <td>0.000049</td>\n",
              "      <td>0.000012</td>\n",
              "      <td>0.000014</td>\n",
              "      <td>-0.000026</td>\n",
              "      <td>0.000049</td>\n",
              "      <td>-0.830147</td>\n",
              "      <td>118.742089</td>\n",
              "      <td>-392.28</td>\n",
              "      <td>438.16</td>\n",
              "      <td>1.210132</td>\n",
              "      <td>0.091882</td>\n",
              "      <td>1.014138</td>\n",
              "      <td>1.485800</td>\n",
              "      <td>2.109146</td>\n",
              "      <td>1.223528</td>\n",
              "      <td>0.539150</td>\n",
              "      <td>4.459367</td>\n",
              "      <td>1.467865</td>\n",
              "      <td>2.852510</td>\n",
              "      <td>3.096902e-08</td>\n",
              "      <td>17.418821</td>\n",
              "      <td>0.377615</td>\n",
              "      <td>1.172221</td>\n",
              "      <td>-1.213173</td>\n",
              "      <td>1.871490</td>\n",
              "      <td>0.037545</td>\n",
              "      <td>2.843123</td>\n",
              "      <td>-8.168030</td>\n",
              "      <td>6.742859</td>\n",
              "      <td>35.797568</td>\n",
              "      <td>0.029901</td>\n",
              "      <td>35.75</td>\n",
              "      <td>35.87</td>\n",
              "      <td>0.095023</td>\n",
              "      <td>-0.000789</td>\n",
              "      <td>2</td>\n",
              "      <td>1</td>\n",
              "      <td>27</td>\n",
              "      <td>175</td>\n",
              "      <td>80</td>\n",
              "      <td>0</td>\n",
              "      <td>1</td>\n",
              "      <td>0</td>\n",
              "      <td>0</td>\n",
              "      <td>1</td>\n",
              "      <td>0</td>\n",
              "      <td>0</td>\n",
              "    </tr>\n",
              "    <tr>\n",
              "      <th>2</th>\n",
              "      <td>0</td>\n",
              "      <td>0.020839</td>\n",
              "      <td>0.011034</td>\n",
              "      <td>0.002752</td>\n",
              "      <td>0.054356</td>\n",
              "      <td>0.020839</td>\n",
              "      <td>0.011034</td>\n",
              "      <td>0.002752</td>\n",
              "      <td>0.054356</td>\n",
              "      <td>0.000014</td>\n",
              "      <td>0.000008</td>\n",
              "      <td>0.000002</td>\n",
              "      <td>0.000037</td>\n",
              "      <td>0.000014</td>\n",
              "      <td>0.000008</td>\n",
              "      <td>0.000002</td>\n",
              "      <td>0.000037</td>\n",
              "      <td>0.939683</td>\n",
              "      <td>42.190039</td>\n",
              "      <td>-240.61</td>\n",
              "      <td>209.89</td>\n",
              "      <td>1.010977</td>\n",
              "      <td>0.102315</td>\n",
              "      <td>0.832216</td>\n",
              "      <td>1.190967</td>\n",
              "      <td>0.152828</td>\n",
              "      <td>0.128896</td>\n",
              "      <td>0.006950</td>\n",
              "      <td>0.544346</td>\n",
              "      <td>0.105091</td>\n",
              "      <td>0.244891</td>\n",
              "      <td>4.725602e-08</td>\n",
              "      <td>1.300810</td>\n",
              "      <td>1.727696</td>\n",
              "      <td>0.293389</td>\n",
              "      <td>1.137304</td>\n",
              "      <td>2.037179</td>\n",
              "      <td>-0.021862</td>\n",
              "      <td>1.700333</td>\n",
              "      <td>-2.914429</td>\n",
              "      <td>3.260803</td>\n",
              "      <td>35.712909</td>\n",
              "      <td>0.027612</td>\n",
              "      <td>35.66</td>\n",
              "      <td>35.75</td>\n",
              "      <td>0.076880</td>\n",
              "      <td>-0.000717</td>\n",
              "      <td>2</td>\n",
              "      <td>1</td>\n",
              "      <td>27</td>\n",
              "      <td>175</td>\n",
              "      <td>80</td>\n",
              "      <td>0</td>\n",
              "      <td>1</td>\n",
              "      <td>0</td>\n",
              "      <td>0</td>\n",
              "      <td>1</td>\n",
              "      <td>0</td>\n",
              "      <td>0</td>\n",
              "    </tr>\n",
              "    <tr>\n",
              "      <th>3</th>\n",
              "      <td>0</td>\n",
              "      <td>0.034449</td>\n",
              "      <td>0.003185</td>\n",
              "      <td>0.013761</td>\n",
              "      <td>0.040595</td>\n",
              "      <td>0.034449</td>\n",
              "      <td>0.003185</td>\n",
              "      <td>0.013761</td>\n",
              "      <td>0.040595</td>\n",
              "      <td>0.000024</td>\n",
              "      <td>0.000002</td>\n",
              "      <td>0.000009</td>\n",
              "      <td>0.000028</td>\n",
              "      <td>0.000024</td>\n",
              "      <td>0.000002</td>\n",
              "      <td>0.000009</td>\n",
              "      <td>0.000028</td>\n",
              "      <td>0.107404</td>\n",
              "      <td>41.606872</td>\n",
              "      <td>-289.26</td>\n",
              "      <td>145.36</td>\n",
              "      <td>0.775187</td>\n",
              "      <td>0.046391</td>\n",
              "      <td>0.693996</td>\n",
              "      <td>0.876819</td>\n",
              "      <td>0.177595</td>\n",
              "      <td>0.126167</td>\n",
              "      <td>0.002789</td>\n",
              "      <td>0.361388</td>\n",
              "      <td>0.110786</td>\n",
              "      <td>0.199704</td>\n",
              "      <td>2.787285e-08</td>\n",
              "      <td>1.105898</td>\n",
              "      <td>0.987927</td>\n",
              "      <td>0.042388</td>\n",
              "      <td>0.912441</td>\n",
              "      <td>1.127602</td>\n",
              "      <td>0.097563</td>\n",
              "      <td>1.483260</td>\n",
              "      <td>-2.818298</td>\n",
              "      <td>3.730774</td>\n",
              "      <td>35.700811</td>\n",
              "      <td>0.019504</td>\n",
              "      <td>35.66</td>\n",
              "      <td>35.73</td>\n",
              "      <td>0.140271</td>\n",
              "      <td>0.000075</td>\n",
              "      <td>2</td>\n",
              "      <td>1</td>\n",
              "      <td>27</td>\n",
              "      <td>175</td>\n",
              "      <td>80</td>\n",
              "      <td>0</td>\n",
              "      <td>1</td>\n",
              "      <td>0</td>\n",
              "      <td>0</td>\n",
              "      <td>1</td>\n",
              "      <td>0</td>\n",
              "      <td>0</td>\n",
              "    </tr>\n",
              "    <tr>\n",
              "      <th>4</th>\n",
              "      <td>0</td>\n",
              "      <td>0.028870</td>\n",
              "      <td>0.004379</td>\n",
              "      <td>0.013761</td>\n",
              "      <td>0.038531</td>\n",
              "      <td>0.028870</td>\n",
              "      <td>0.004379</td>\n",
              "      <td>0.013761</td>\n",
              "      <td>0.038531</td>\n",
              "      <td>0.000020</td>\n",
              "      <td>0.000003</td>\n",
              "      <td>0.000009</td>\n",
              "      <td>0.000027</td>\n",
              "      <td>0.000020</td>\n",
              "      <td>0.000003</td>\n",
              "      <td>0.000009</td>\n",
              "      <td>0.000027</td>\n",
              "      <td>-0.073620</td>\n",
              "      <td>43.121633</td>\n",
              "      <td>-197.37</td>\n",
              "      <td>194.12</td>\n",
              "      <td>0.657494</td>\n",
              "      <td>0.034540</td>\n",
              "      <td>0.594667</td>\n",
              "      <td>0.718106</td>\n",
              "      <td>0.035014</td>\n",
              "      <td>0.039616</td>\n",
              "      <td>0.001144</td>\n",
              "      <td>0.132781</td>\n",
              "      <td>0.026716</td>\n",
              "      <td>0.114738</td>\n",
              "      <td>5.174644e-08</td>\n",
              "      <td>0.997037</td>\n",
              "      <td>0.772262</td>\n",
              "      <td>0.077628</td>\n",
              "      <td>0.615685</td>\n",
              "      <td>0.907833</td>\n",
              "      <td>0.062545</td>\n",
              "      <td>1.501585</td>\n",
              "      <td>-3.242493</td>\n",
              "      <td>2.912903</td>\n",
              "      <td>35.744727</td>\n",
              "      <td>0.019386</td>\n",
              "      <td>35.71</td>\n",
              "      <td>35.79</td>\n",
              "      <td>0.149321</td>\n",
              "      <td>0.000442</td>\n",
              "      <td>2</td>\n",
              "      <td>1</td>\n",
              "      <td>27</td>\n",
              "      <td>175</td>\n",
              "      <td>80</td>\n",
              "      <td>0</td>\n",
              "      <td>1</td>\n",
              "      <td>0</td>\n",
              "      <td>0</td>\n",
              "      <td>1</td>\n",
              "      <td>0</td>\n",
              "      <td>0</td>\n",
              "    </tr>\n",
              "  </tbody>\n",
              "</table>\n",
              "</div>"
            ],
            "text/plain": [
              "   Unnamed: 0.1  net_acc_mean  ...  smoker_YES  feel_ill_today_YES\n",
              "0             0      0.029937  ...           0                   0\n",
              "1             0      0.021986  ...           0                   0\n",
              "2             0      0.020839  ...           0                   0\n",
              "3             0      0.034449  ...           0                   0\n",
              "4             0      0.028870  ...           0                   0\n",
              "\n",
              "[5 rows x 59 columns]"
            ]
          },
          "metadata": {
            "tags": []
          },
          "execution_count": 40
        }
      ]
    },
    {
      "cell_type": "code",
      "metadata": {
        "id": "kyH3lqeFIgDC",
        "outputId": "a76c8150-3362-4f0f-af07-4eb04eeb21db",
        "colab": {
          "base_uri": "https://localhost:8080/",
          "height": 283
        }
      },
      "source": [
        "plt.plot(df.label,df.BVP_mean)"
      ],
      "execution_count": null,
      "outputs": [
        {
          "output_type": "execute_result",
          "data": {
            "text/plain": [
              "[<matplotlib.lines.Line2D at 0x7fdc2b6f72b0>]"
            ]
          },
          "metadata": {
            "tags": []
          },
          "execution_count": 41
        },
        {
          "output_type": "display_data",
          "data": {
            "image/png": "[encoded data removed]",
            "text/plain": [
              "<Figure size 432x288 with 1 Axes>"
            ]
          },
          "metadata": {
            "tags": [],
            "needs_background": "light"
          }
        }
      ]
    },
    {
      "cell_type": "code",
      "metadata": {
        "id": "ynXGcqw2LqY-"
      },
      "source": [
        "from sklearn.model_selection import train_test_split \n",
        "def to_test_train(df):\n",
        "\n",
        "    X=df.drop(['label','subject'],axis=1).values\n",
        "    y=df['label'].values\n",
        "    X_tr,X_te,y_tr,y_te=train_test_split(X,y,test_size=0.3,random_state=41)\n",
        "    # print(X_tr.shape)\n",
        "    # print(X_te.shape)\n",
        "    # print(y_tr.shape)\n",
        "    # print(y_te.shape)\n",
        "    # print(y_tr)\n",
        "    return X_tr,y_tr,X_te,y_te"
      ],
      "execution_count": null,
      "outputs": []
    },
    {
      "cell_type": "code",
      "metadata": {
        "id": "mKU4nHIFOeHJ"
      },
      "source": [
        "def accuracy(y_pred,y_te):\n",
        "    er=0\n",
        "    for j in range(y_te.shape[0]):\n",
        "        if y_pred[j]==y_te[j]:\n",
        "            er+=1\n",
        "    return er/y_te.shape[0]"
      ],
      "execution_count": null,
      "outputs": []
    },
    {
      "cell_type": "markdown",
      "metadata": {
        "id": "_MjU2IHefgtb"
      },
      "source": [
        "**TAKING ALL THE SUBJECTS FOR CLASSIFICATION**"
      ]
    },
    {
      "cell_type": "code",
      "metadata": {
        "id": "UDxxbJI8Sx5M"
      },
      "source": [
        "X_tr_all,y_tr_all,X_te_all,y_te_all=to_test_train(df)"
      ],
      "execution_count": null,
      "outputs": []
    },
    {
      "cell_type": "code",
      "metadata": {
        "id": "8YjIY1z7NAHT",
        "outputId": "6f68af12-f302-4475-c3ca-69cb1508c491",
        "colab": {
          "base_uri": "https://localhost:8080/"
        }
      },
      "source": [
        "from sklearn.ensemble import RandomForestClassifier\n",
        "clf=RandomForestClassifier(n_estimators=150,random_state=0,min_samples_split=2)\n",
        "clf.fit(X_tr_all,y_tr_all)\n"
      ],
      "execution_count": null,
      "outputs": [
        {
          "output_type": "execute_result",
          "data": {
            "text/plain": [
              "RandomForestClassifier(bootstrap=True, ccp_alpha=0.0, class_weight=None,\n",
              "                       criterion='gini', max_depth=None, max_features='auto',\n",
              "                       max_leaf_nodes=None, max_samples=None,\n",
              "                       min_impurity_decrease=0.0, min_impurity_split=None,\n",
              "                       min_samples_leaf=1, min_samples_split=2,\n",
              "                       min_weight_fraction_leaf=0.0, n_estimators=150,\n",
              "                       n_jobs=None, oob_score=False, random_state=0, verbose=0,\n",
              "                       warm_start=False)"
            ]
          },
          "metadata": {
            "tags": []
          },
          "execution_count": 45
        }
      ]
    },
    {
      "cell_type": "code",
      "metadata": {
        "id": "i-xyGaxNXApE"
      },
      "source": [
        "y_pred_all=clf.predict(X_te_all)"
      ],
      "execution_count": null,
      "outputs": []
    },
    {
      "cell_type": "code",
      "metadata": {
        "id": "7-Rvpu_DNbgv",
        "outputId": "ef60aad4-7f54-4d55-e9e9-20ae892d6143",
        "colab": {
          "base_uri": "https://localhost:8080/"
        }
      },
      "source": [
        "print(\"Taking all subjects accuracy is\",accuracy(y_pred_all,y_te_all)*100,\"%\")"
      ],
      "execution_count": null,
      "outputs": [
        {
          "output_type": "stream",
          "text": [
            "Taking all subjects accuracy is 94.91525423728814 %\n"
          ],
          "name": "stdout"
        }
      ]
    },
    {
      "cell_type": "code",
      "metadata": {
        "id": "RwWdmnmCihIM",
        "outputId": "7f0502ae-bf69-44e7-e31d-6d1b6189263b",
        "colab": {
          "base_uri": "https://localhost:8080/"
        }
      },
      "source": [
        "from sklearn.metrics import accuracy_score, f1_score, precision_score, recall_score, classification_report\n",
        "print(\"F1 Score\",f1_score(y_te_all, y_pred_all, average=\"macro\"))\n",
        "print(\"Precision Score\",precision_score(y_te_all, y_pred_all, average=\"macro\"))\n",
        "print(\"Recall Score\",recall_score(y_te_all, y_pred_all, average=\"macro\"))"
      ],
      "execution_count": null,
      "outputs": [
        {
          "output_type": "stream",
          "text": [
            "F1 Score 0.9369999704332538\n",
            "Precision Score 0.94997964997965\n",
            "Recall Score 0.9270659254080806\n"
          ],
          "name": "stdout"
        }
      ]
    },
    {
      "cell_type": "markdown",
      "metadata": {
        "id": "Ge1tGyLEWUVX"
      },
      "source": [
        "**TAKING EACH SUBJECT AND TRAINING THE MODEL INDIVIDUALLY**"
      ]
    },
    {
      "cell_type": "code",
      "metadata": {
        "id": "1zS_kkjmRtK4",
        "outputId": "71b35b18-9048-4615-da36-609f22822095",
        "colab": {
          "base_uri": "https://localhost:8080/"
        }
      },
      "source": [
        "# Random Forest Classifier\n",
        "ac=[]\n",
        "pred=[]\n",
        "test=[]\n",
        "from sklearn.ensemble import RandomForestClassifier\n",
        "for i in dfs:\n",
        "    X_tr,y_tr,X_te,y_te=to_test_train(dfs[i])\n",
        "    clf=RandomForestClassifier(n_estimators=150,random_state=0,min_samples_split=2)\n",
        "    clf.fit(X_tr,y_tr) \n",
        "    y_pred=clf.predict(X_te)\n",
        "    pred.append(y_pred)\n",
        "    test.append(y_te)\n",
        "    acc=accuracy(y_pred,y_te)\n",
        "    print(\"Accuracy for subject:\", i,\"is\",acc*100,\"%\")\n",
        "    ac.append(acc*100)"
      ],
      "execution_count": null,
      "outputs": [
        {
          "output_type": "stream",
          "text": [
            "Accuracy for subject: 2 is 100.0 %\n",
            "Accuracy for subject: 3 is 91.66666666666666 %\n",
            "Accuracy for subject: 4 is 95.65217391304348 %\n",
            "Accuracy for subject: 5 is 100.0 %\n",
            "Accuracy for subject: 6 is 100.0 %\n",
            "Accuracy for subject: 7 is 91.66666666666666 %\n",
            "Accuracy for subject: 8 is 100.0 %\n",
            "Accuracy for subject: 9 is 100.0 %\n",
            "Accuracy for subject: 10 is 96.0 %\n",
            "Accuracy for subject: 11 is 100.0 %\n",
            "Accuracy for subject: 13 is 100.0 %\n",
            "Accuracy for subject: 14 is 100.0 %\n",
            "Accuracy for subject: 15 is 100.0 %\n",
            "Accuracy for subject: 16 is 100.0 %\n",
            "Accuracy for subject: 17 is 100.0 %\n"
          ],
          "name": "stdout"
        }
      ]
    },
    {
      "cell_type": "code",
      "metadata": {
        "id": "h9kTWiqSSW5V",
        "outputId": "a0d3b145-8d13-4f28-f7b8-eb7f666d544b",
        "colab": {
          "base_uri": "https://localhost:8080/"
        }
      },
      "source": [
        "ac=np.array(ac)\n",
        "print(\"Mean Accuracy is\",np.mean(ac),\"%\")"
      ],
      "execution_count": null,
      "outputs": [
        {
          "output_type": "stream",
          "text": [
            "Mean Accuracy is 98.33236714975845 %\n"
          ],
          "name": "stdout"
        }
      ]
    },
    {
      "cell_type": "code",
      "metadata": {
        "id": "4ttZ49bWUVQM",
        "outputId": "879f246d-62d2-45ff-eb5f-bfe7240e7e34",
        "colab": {
          "base_uri": "https://localhost:8080/",
          "height": 390
        }
      },
      "source": [
        "import matplotlib.pyplot as plt\n",
        "import seaborn as sns\n",
        "plt.figure(figsize=(14, 6))\n",
        "plt.title('Testing Accuracies for each subject')\n",
        "sns.barplot(x=sub_set, y=ac);"
      ],
      "execution_count": null,
      "outputs": [
        {
          "output_type": "display_data",
          "data": {
            "image/png": "[encoded data removed]",
            "text/plain": [
              "<Figure size 1008x432 with 1 Axes>"
            ]
          },
          "metadata": {
            "tags": [],
            "needs_background": "light"
          }
        }
      ]
    },
    {
      "cell_type": "markdown",
      "metadata": {
        "id": "7tymrS-GWRZE"
      },
      "source": [
        "**MODEL** **EVALUATION**"
      ]
    },
    {
      "cell_type": "code",
      "metadata": {
        "id": "H0laWQRRWsxu",
        "outputId": "a008487d-ff88-4101-efb1-7f9cbdd82438",
        "colab": {
          "base_uri": "https://localhost:8080/",
          "height": 683
        }
      },
      "source": [
        "from sklearn.metrics import confusion_matrix\n",
        "\n",
        "plt.figure(figsize=(25,20))\n",
        "it=0\n",
        "for i in dfs:\n",
        "    conf=confusion_matrix(test[it],pred[it])\n",
        "    plt.title(f'Subject {i}')\n",
        "    plt.subplot(4,5,it+1)\n",
        "    sns.heatmap(conf, annot=True, fmt='d', cbar=False);\n",
        "    plt.xlabel('Predicted')\n",
        "    plt.ylabel('Actual')\n",
        "    it+=1\n",
        "# plt.figure(figsize=(4,5))\n"
      ],
      "execution_count": null,
      "outputs": [
        {
          "output_type": "display_data",
          "data": {
            "image/png": "[encoded data removed]",
            "text/plain": [
              "<Figure size 1800x1440 with 15 Axes>"
            ]
          },
          "metadata": {
            "tags": [],
            "needs_background": "light"
          }
        }
      ]
    },
    {
      "cell_type": "code",
      "metadata": {
        "id": "0SVGpQmhcZSr",
        "outputId": "e2590d4c-95cc-4024-b454-228e897ce9e4",
        "colab": {
          "base_uri": "https://localhost:8080/",
          "height": 336
        }
      },
      "source": [
        "con=confusion_matrix(y_te_all,y_pred_all)\n",
        "plt.figure(figsize=(4,5))\n",
        "plt.xlabel('Predicted')\n",
        "plt.ylabel('Actual')\n",
        "plt.title('Taking all subjects together')\n",
        "sns.heatmap(con, annot=True, fmt='d', cbar=False)\n",
        "plt.show()"
      ],
      "execution_count": null,
      "outputs": [
        {
          "output_type": "display_data",
          "data": {
            "image/png": "[encoded data removed]",
            "text/plain": [
              "<Figure size 288x360 with 1 Axes>"
            ]
          },
          "metadata": {
            "tags": [],
            "needs_background": "light"
          }
        }
      ]
    },
    {
      "cell_type": "code",
      "metadata": {
        "id": "RmxAKIrP0xgE"
      },
      "source": [
        "X_tr_all,y_tr_all,X_te_all,y_te_all=to_test_train(df)"
      ],
      "execution_count": null,
      "outputs": []
    },
    {
      "cell_type": "code",
      "metadata": {
        "id": "gXguoMJh0zZw"
      },
      "source": [
        "from sklearn.discriminant_analysis import LinearDiscriminantAnalysis\n",
        "from sklearn.neighbors import KNeighborsClassifier\n",
        "from sklearn.naive_bayes import GaussianNB\n",
        "from sklearn.tree import DecisionTreeClassifier\n",
        "from sklearn.svm import SVC"
      ],
      "execution_count": null,
      "outputs": []
    },
    {
      "cell_type": "code",
      "metadata": {
        "id": "0S3cOoNA1lnC",
        "outputId": "1f46cdaa-0085-48d3-eda7-2159491180cd",
        "colab": {
          "base_uri": "https://localhost:8080/"
        }
      },
      "source": [
        "DCT=DecisionTreeClassifier()\n",
        "DCT.fit(X_tr_all,y_tr_all)\n",
        "pred=DCT.predict(X_te_all)\n",
        "print(accuracy(pred,y_te_all)*100,\"%\")"
      ],
      "execution_count": null,
      "outputs": [
        {
          "output_type": "stream",
          "text": [
            "92.65536723163842 %\n"
          ],
          "name": "stdout"
        }
      ]
    },
    {
      "cell_type": "code",
      "metadata": {
        "id": "9U1efyzGjib0",
        "outputId": "fd81a0ea-773e-4c52-eb2a-4529475ba7c0",
        "colab": {
          "base_uri": "https://localhost:8080/"
        }
      },
      "source": [
        "print(\"F1 Score\",f1_score(y_te_all, pred, average=\"macro\"))\n",
        "print(\"Precision Score\",precision_score(y_te_all,pred, average=\"macro\"))\n",
        "print(\"Recall Score\",recall_score(y_te_all, pred, average=\"macro\"))"
      ],
      "execution_count": null,
      "outputs": [
        {
          "output_type": "stream",
          "text": [
            "F1 Score 0.9143556215432436\n",
            "Precision Score 0.9150057118807119\n",
            "Recall Score 0.9138963791515474\n"
          ],
          "name": "stdout"
        }
      ]
    },
    {
      "cell_type": "code",
      "metadata": {
        "id": "Qn_VFotZ2fcB",
        "outputId": "bb526642-bb55-4e7c-dc15-c0fb3e38cbd6",
        "colab": {
          "base_uri": "https://localhost:8080/",
          "height": 336
        }
      },
      "source": [
        "from sklearn.metrics import confusion_matrix\n",
        "con=confusion_matrix(y_te_all,pred)\n",
        "plt.figure(figsize=(4,5))\n",
        "plt.xlabel('Predicted')\n",
        "plt.ylabel('Actual')\n",
        "plt.title('Taking all subjects together')\n",
        "sns.heatmap(con, annot=True, fmt='d', cbar=False)\n",
        "plt.show()"
      ],
      "execution_count": null,
      "outputs": [
        {
          "output_type": "display_data",
          "data": {
            "image/png": "[encoded data removed]",
            "text/plain": [
              "<Figure size 288x360 with 1 Axes>"
            ]
          },
          "metadata": {
            "tags": [],
            "needs_background": "light"
          }
        }
      ]
    },
    {
      "cell_type": "code",
      "metadata": {
        "id": "Y7P5gdOHIeax"
      },
      "source": [
        ""
      ],
      "execution_count": null,
      "outputs": []
    },
    {
      "cell_type": "code",
      "metadata": {
        "id": "mlbkLFyH3FZn",
        "outputId": "dc37be92-bb71-4901-e2e9-90f8f4054ed5",
        "colab": {
          "base_uri": "https://localhost:8080/"
        }
      },
      "source": [
        "LDA=LinearDiscriminantAnalysis()\n",
        "\n",
        "LDA.fit(X_tr_all,y_tr_all)\n",
        "pred=LDA.predict(X_te_all)\n",
        "print(accuracy(pred,y_te_all))"
      ],
      "execution_count": null,
      "outputs": [
        {
          "output_type": "stream",
          "text": [
            "0.8022598870056498\n"
          ],
          "name": "stdout"
        }
      ]
    },
    {
      "cell_type": "code",
      "metadata": {
        "id": "OOqUQgWZ3S8K",
        "outputId": "c23695e0-0839-439b-940f-a82b51483de7",
        "colab": {
          "base_uri": "https://localhost:8080/",
          "height": 336
        }
      },
      "source": [
        "from sklearn.metrics import confusion_matrix\n",
        "con=confusion_matrix(y_te_all,pred)\n",
        "plt.figure(figsize=(4,5))\n",
        "plt.xlabel('Predicted')\n",
        "plt.ylabel('Actual')\n",
        "plt.title('Taking all subjects together')\n",
        "sns.heatmap(con, annot=True, fmt='d', cbar=False)\n",
        "plt.show()"
      ],
      "execution_count": null,
      "outputs": [
        {
          "output_type": "display_data",
          "data": {
            "image/png": "[encoded data removed]",
            "text/plain": [
              "<Figure size 288x360 with 1 Axes>"
            ]
          },
          "metadata": {
            "tags": [],
            "needs_background": "light"
          }
        }
      ]
    }
  ]
}